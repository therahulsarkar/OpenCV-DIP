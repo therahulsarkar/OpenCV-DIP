{
 "cells": [
  {
   "cell_type": "markdown",
   "id": "cabdefe3",
   "metadata": {},
   "source": [
    "# OOPS"
   ]
  },
  {
   "cell_type": "code",
   "execution_count": null,
   "id": "30fbb00b",
   "metadata": {},
   "outputs": [],
   "source": [
    "class Employee():\n",
    "    def __init__(self, name, age):\n",
    "        self.__name = name\n",
    "        self.__age = age\n",
    "        \n",
    "    def __prnt(self):\n",
    "        print(f'{self.__name} is {self.__age} years old')\n",
    "        \n",
    "    def callme(self):\n",
    "        return self.__prnt()\n",
    "        \n",
    "        \n",
    "emp = Employee(\"Rahul\", 25)\n",
    "emp.callme()"
   ]
  },
  {
   "cell_type": "code",
   "execution_count": null,
   "id": "caa16d41",
   "metadata": {},
   "outputs": [],
   "source": [
    "string = \"Hey bro wassup\"\n",
    "enum = list(enumerate(string))\n",
    "for item in enum:\n",
    "    print(item)"
   ]
  },
  {
   "cell_type": "markdown",
   "id": "6a92c048",
   "metadata": {},
   "source": [
    "## list to dict"
   ]
  },
  {
   "cell_type": "code",
   "execution_count": null,
   "id": "db085fab",
   "metadata": {},
   "outputs": [],
   "source": [
    "a = [\"rahul\", \"sayan\", \"arpan\"]\n",
    "b = [1,2,3]\n",
    "\n",
    "c = dict(zip(a,b))\n",
    "print(c)"
   ]
  },
  {
   "cell_type": "code",
   "execution_count": null,
   "id": "a3f08950",
   "metadata": {},
   "outputs": [],
   "source": [
    "a = [1,2,3,4,5]\n",
    "b = [6,7,8,9,1]\n",
    "\n",
    "c = map(lambda x, y: x+y, a, b)\n",
    "print(list(c))"
   ]
  },
  {
   "cell_type": "code",
   "execution_count": null,
   "id": "7759c938",
   "metadata": {},
   "outputs": [],
   "source": [
    "import re\n",
    "\n",
    "string = \"Eta ki 244 11 39 bela bose tumi parccho ki sunte\"\n",
    "pattern = \"\\d+\"\n",
    "\n",
    "result = re.findall(pattern, string)\n",
    "print(result)\n"
   ]
  },
  {
   "cell_type": "code",
   "execution_count": null,
   "id": "6fe0a838",
   "metadata": {},
   "outputs": [],
   "source": [
    "a = [1,2,3]\n",
    "\n",
    "print(1 in a)"
   ]
  },
  {
   "cell_type": "code",
   "execution_count": null,
   "id": "083b9d56",
   "metadata": {},
   "outputs": [],
   "source": [
    "class pyConverter:\n",
    "    def __init__(self, length, unit):\n",
    "        self.length = length \n",
    "        self.unit = unit\n",
    "        \n",
    "    def toCm(self):\n",
    "        if(self.unit == \"meters\"):\n",
    "            print(f'The result is {self.length * 1000} cm')\n",
    "        elif(self.unit == \"kilometer\"):\n",
    "            print(f'The result is {self.length * 100000} cm')\n",
    "        else:\n",
    "            print(\"The data is already in cm\")\n",
    "            \n",
    "    def toKm(self):\n",
    "        if(self.unit == \"centimeter\"):\n",
    "            print(f'The result is {self.length / 100000} km')\n",
    "        elif(self.unit == \"meter\"):\n",
    "            print(f'The result is {self.length * 1000} km')\n",
    "        else:\n",
    "            print(\"The data is already in km\")\n",
    "            \n",
    "    def toMm(self):\n",
    "        if(self.unit == \"centimeter\"):\n",
    "            print(f'The result is {self.length / 1000 } m')\n",
    "            \n",
    "        elif(self.unit == \"kilometer\"):\n",
    "            print(f'The result is {self.length * 1000} m')\n",
    "        else:\n",
    "            print(\"The data is already in mm\")\n",
    "            \n",
    "pc = pyConverter(3, 'kilometer')\n",
    "pc.toCm()"
   ]
  },
  {
   "cell_type": "code",
   "execution_count": null,
   "id": "d10cd631",
   "metadata": {},
   "outputs": [],
   "source": [
    "l = [0,0,1,1,0,1,0,0,0,0,0,1,0,1,1,1]\n",
    "\n",
    "max = 0\n",
    "chain = 0\n",
    "\n",
    "for i in l:\n",
    "    if i == 0:\n",
    "        chain += 1\n",
    "        if chain > max:\n",
    "            max = chain\n",
    "    else:\n",
    "        chain = 0\n",
    "        \n",
    "print(max)"
   ]
  },
  {
   "cell_type": "code",
   "execution_count": null,
   "id": "1b5ad5b3",
   "metadata": {},
   "outputs": [],
   "source": [
    "N = 60\n",
    "count = 0\n",
    "\n",
    "for i in range(N):\n",
    "    if i % 7 == 0 and i % 10 == 6:\n",
    "        count += 1\n",
    "        print(i)\n",
    "        \n",
    "print(count)"
   ]
  },
  {
   "cell_type": "code",
   "execution_count": null,
   "id": "ec9206fb",
   "metadata": {},
   "outputs": [],
   "source": [
    "numbers = [10, 30, 20, 40, 50, 60, 70]\n",
    "target = 50\n",
    "\n",
    "for i in range (0,len(numbers)):\n",
    "    for j in range(0, len(numbers)):\n",
    "        if numbers[i] + numbers[j] == target:\n",
    "            print((i, j))\n",
    "        \n"
   ]
  },
  {
   "cell_type": "code",
   "execution_count": null,
   "id": "35648e20",
   "metadata": {},
   "outputs": [],
   "source": [
    "class pyWords:\n",
    "    process_words = []\n",
    "    def __init__(self, listt):\n",
    "        self.process_words.extend(listt)\n",
    "        \n",
    "    def printme(self):\n",
    "        print(self.process_words)\n",
    "        \n",
    "    def words_with_length_1(self):\n",
    "        for item in self.process_words:\n",
    "            if len(item) == 1:\n",
    "                print(item)\n",
    "                \n",
    "    def starts_with_S(self):\n",
    "        for item in self.process_words:\n",
    "            if item[0] == \"s\":\n",
    "                print(item)\n",
    "                \n",
    "    def palindrome(self):\n",
    "        for item in self.process_words:\n",
    "            if item == item[::-1]:\n",
    "                print(\"Palindrome\", item)\n",
    "        \n",
    "x = pyWords([\"I\", \"am\", \"Rahul\", \"sarkar\", \"level\"])\n",
    "x.palindrome()"
   ]
  },
  {
   "cell_type": "code",
   "execution_count": null,
   "id": "6c605dc5",
   "metadata": {},
   "outputs": [],
   "source": [
    "class a:\n",
    "    def __init__(self, myList):\n",
    "        self.myList = myList\n",
    "        \n",
    "    def getLength(self):\n",
    "        print(len(self.myList))\n",
    "\n",
    "aa = a([1,2,3,4,5])\n",
    "aa.getLength()"
   ]
  },
  {
   "cell_type": "code",
   "execution_count": null,
   "id": "07d8d096",
   "metadata": {},
   "outputs": [],
   "source": [
    "d = [\n",
    "    {\"name\": \" Rahul\", \"phone\": 1987654321, \"email\": \"rahul@gmail.com\"}, \n",
    "    {\"name\": \" Sayan\", \"phone\": 9143658705, \"email\": \"sayan@gmail.com\"}, \n",
    "    {\"name\": \" Arpan\", \"phone\": 1234567890 } \n",
    "    ]\n",
    "\n",
    "# Number ends with 5\n",
    "for data in d:\n",
    "    if data[\"phone\"] % 10 == 5:\n",
    "        print(data[\"name\"])\n",
    "    else: \n",
    "        pass\n",
    "\n",
    "# Has no email\n",
    "for data in d:\n",
    "    if \"email\" not in data:\n",
    "        print(data[\"name\"])\n",
    "        \n",
    "# Number starts with 9\n",
    "for data in d:\n",
    "    if(int(str(data[\"phone\"])[0]) == 9):\n",
    "        print(data[\"name\"])\n",
    "    "
   ]
  },
  {
   "cell_type": "code",
   "execution_count": null,
   "id": "7d194bb8",
   "metadata": {},
   "outputs": [],
   "source": [
    "d = {\n",
    "    {\"name\": \" Rahul\", \"phone\": 1987654321, \"email\": \"rahul@gmail.com\"}, \n",
    "    {\"name\": \" Sayan\", \"phone\": 9143658705, \"email\": \"sayan@gmail.com\"}, \n",
    "    {\"name\": \" Arpan\", \"phone\": 1234567890 } \n",
    "}\n",
    "\n",
    "# Number ends with 5\n",
    "for data in d:\n",
    "    if data[\"phone\"] % 10 == 5:\n",
    "        print(data[\"name\"])\n",
    "    else: \n",
    "        pass\n",
    "\n",
    "# Has no email\n",
    "for data in d:\n",
    "    if \"email\" not in data:\n",
    "        print(data[\"name\"])\n",
    "        \n",
    "# Number starts with 9\n",
    "for data in d:\n",
    "    if(int(str(data[\"phone\"])[0]) == 9):\n",
    "        print(data[\"name\"])\n",
    "    "
   ]
  },
  {
   "cell_type": "code",
   "execution_count": null,
   "id": "fa92bd8f",
   "metadata": {},
   "outputs": [],
   "source": [
    "d = {\n",
    "    \"user1\": {\n",
    "        \"name\": \" Rahul\",\n",
    "        \"phone\": 1987654321,\n",
    "        \"email\": \"rahul@gmail.com\"\n",
    "    }, \n",
    "    \n",
    "    \"user2\": {\n",
    "        \"name\": \" Arpan\",\n",
    "        \"phone\": 1987654325,\n",
    "    }, \n",
    "    \"user3\": {\n",
    "        \"name\": \" Sayan\",\n",
    "        \"phone\": 9987654321,\n",
    "        \"email\": \"sayan@gmail.com\"\n",
    "    }, \n",
    "}\n",
    "\n",
    "for data in d:\n",
    "    if(d[data][\"phone\"] % 10 == 5):\n",
    "        print(d[data][\"name\"])\n",
    "        \n",
    "for data in d:\n",
    "    if(int(str(d[data][\"phone\"])[0]) == 9):\n",
    "        print(d[data][\"name\"])\n",
    "        \n",
    "for data in d:\n",
    "    if \"email\" not in d[data]:\n",
    "        print(d[data][\"name\"])\n",
    "    "
   ]
  },
  {
   "cell_type": "code",
   "execution_count": 2,
   "id": "b5e1b36e",
   "metadata": {},
   "outputs": [
    {
     "name": "stdout",
     "output_type": "stream",
     "text": [
      "Enter name of productcondom\n",
      "Price of product100\n",
      "Wanna stop?N\n",
      "Enter name of producttv\n",
      "Price of product12000\n",
      "Wanna stop?N\n",
      "Enter name of productmobile\n",
      "Price of product2000\n",
      "Wanna stop?Y\n",
      "{'condom': 100, 'tv': 12000, 'mobile': 2000}\n"
     ]
    }
   ],
   "source": [
    "\n",
    "data = {}\n",
    "\n",
    "while(True):\n",
    "    name = input(\"Enter name of product\")\n",
    "    price = int(input(\"Price of product\"))\n",
    "    data[name] = price    \n",
    "    con = input(\"Wanna stop?\")\n",
    "    if(con == \"Y\"):\n",
    "        break\n",
    "    else:\n",
    "        pass\n",
    "        \n",
    "name = input(\"Enter product name\")\n",
    "print(data[name])\n",
    "\n",
    "p1 = int(input(\"Enter starting range\"))\n",
    "p2 = int(input(\"Enter ending range\"))\n",
    "\n",
    "for item in data:\n",
    "    if(data[item] > )\n",
    "\n",
    "print(data)"
   ]
  },
  {
   "cell_type": "code",
   "execution_count": null,
   "id": "d8fd107f",
   "metadata": {},
   "outputs": [],
   "source": []
  }
 ],
 "metadata": {
  "kernelspec": {
   "display_name": "Python 3 (ipykernel)",
   "language": "python",
   "name": "python3"
  },
  "language_info": {
   "codemirror_mode": {
    "name": "ipython",
    "version": 3
   },
   "file_extension": ".py",
   "mimetype": "text/x-python",
   "name": "python",
   "nbconvert_exporter": "python",
   "pygments_lexer": "ipython3",
   "version": "3.10.0"
  }
 },
 "nbformat": 4,
 "nbformat_minor": 5
}
