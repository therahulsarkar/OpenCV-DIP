{
 "cells": [
  {
   "cell_type": "markdown",
   "id": "cabdefe3",
   "metadata": {},
   "source": [
    "# OOPS"
   ]
  },
  {
   "cell_type": "code",
   "execution_count": 59,
   "id": "30fbb00b",
   "metadata": {},
   "outputs": [
    {
     "name": "stdout",
     "output_type": "stream",
     "text": [
      "Rahul is 25 years old\n"
     ]
    }
   ],
   "source": [
    "class Employee():\n",
    "    def __init__(self, name, age):\n",
    "        self.__name = name\n",
    "        self.__age = age\n",
    "        \n",
    "    def __prnt(self):\n",
    "        print(f'{self.__name} is {self.__age} years old')\n",
    "        \n",
    "    def callme(self):\n",
    "        return self.__prnt()\n",
    "        \n",
    "        \n",
    "emp = Employee(\"Rahul\", 25)\n",
    "emp.callme()"
   ]
  },
  {
   "cell_type": "code",
   "execution_count": 58,
   "id": "caa16d41",
   "metadata": {},
   "outputs": [
    {
     "name": "stdout",
     "output_type": "stream",
     "text": [
      "(0, 'H')\n",
      "(1, 'e')\n",
      "(2, 'y')\n",
      "(3, ' ')\n",
      "(4, 'b')\n",
      "(5, 'r')\n",
      "(6, 'o')\n",
      "(7, ' ')\n",
      "(8, 'w')\n",
      "(9, 'a')\n",
      "(10, 's')\n",
      "(11, 's')\n",
      "(12, 'u')\n",
      "(13, 'p')\n"
     ]
    }
   ],
   "source": [
    "string = \"Hey bro wassup\"\n",
    "enum = enumerate(string)\n",
    "for item in enum:\n",
    "    print(item)"
   ]
  },
  {
   "cell_type": "markdown",
   "id": "6a92c048",
   "metadata": {},
   "source": [
    "## list to dict"
   ]
  },
  {
   "cell_type": "code",
   "execution_count": null,
   "id": "db085fab",
   "metadata": {},
   "outputs": [],
   "source": [
    "a = [\"rahul\", \"sayan\", \"arpan\"]\n",
    "b = [1,2,3]\n",
    "\n",
    "c = dict(zip(a,b))\n",
    "print(c)"
   ]
  },
  {
   "cell_type": "markdown",
   "id": "24809ab6",
   "metadata": {},
   "source": [
    "## Map function "
   ]
  },
  {
   "cell_type": "code",
   "execution_count": null,
   "id": "a3f08950",
   "metadata": {},
   "outputs": [],
   "source": [
    "a = [1,2,3,4,5]\n",
    "b = [6,7,8,9,1]\n",
    "\n",
    "c = map(lambda x, y: x+y, a, b)\n",
    "print(list(c))"
   ]
  },
  {
   "cell_type": "code",
   "execution_count": null,
   "id": "7759c938",
   "metadata": {},
   "outputs": [],
   "source": [
    "import re\n",
    "\n",
    "string = \"Eta ki 244 11 39 bela bose tumi parccho ki sunte\"\n",
    "pattern = \"\\d+\"\n",
    "\n",
    "result = re.findall(pattern, string)\n",
    "print(result)\n"
   ]
  },
  {
   "cell_type": "code",
   "execution_count": null,
   "id": "6fe0a838",
   "metadata": {},
   "outputs": [],
   "source": [
    "a = [1,2,3]\n",
    "\n",
    "print(1 in a)"
   ]
  },
  {
   "cell_type": "code",
   "execution_count": null,
   "id": "083b9d56",
   "metadata": {},
   "outputs": [],
   "source": [
    "class pyConverter:\n",
    "    def __init__(self, length, unit):\n",
    "        self.length = length \n",
    "        self.unit = unit\n",
    "        \n",
    "    def toCm(self):\n",
    "        if(self.unit == \"meters\"):\n",
    "            print(f'The result is {self.length * 1000} cm')\n",
    "        elif(self.unit == \"kilometer\"):\n",
    "            print(f'The result is {self.length * 100000} cm')\n",
    "        else:\n",
    "            print(\"The data is already in cm\")\n",
    "            \n",
    "    def toKm(self):\n",
    "        if(self.unit == \"centimeter\"):\n",
    "            print(f'The result is {self.length / 100000} km')\n",
    "        elif(self.unit == \"meter\"):\n",
    "            print(f'The result is {self.length * 1000} km')\n",
    "        else:\n",
    "            print(\"The data is already in km\")\n",
    "            \n",
    "    def toMm(self):\n",
    "        if(self.unit == \"centimeter\"):\n",
    "            print(f'The result is {self.length / 1000 } m')\n",
    "            \n",
    "        elif(self.unit == \"kilometer\"):\n",
    "            print(f'The result is {self.length * 1000} m')\n",
    "        else:\n",
    "            print(\"The data is already in mm\")\n",
    "            \n",
    "pc = pyConverter(3, 'kilometer')\n",
    "pc.toCm()"
   ]
  },
  {
   "cell_type": "code",
   "execution_count": null,
   "id": "d10cd631",
   "metadata": {},
   "outputs": [],
   "source": [
    "l = [0,0,1,1,0,1,0,0,0,0,0,1,0,1,1,1]\n",
    "\n",
    "max = 0\n",
    "chain = 0\n",
    "\n",
    "for i in l:\n",
    "    if i == 0:\n",
    "        chain += 1\n",
    "        if chain > max:\n",
    "            max = chain\n",
    "    else:\n",
    "        chain = 0\n",
    "        \n",
    "print(max)"
   ]
  },
  {
   "cell_type": "code",
   "execution_count": null,
   "id": "1b5ad5b3",
   "metadata": {},
   "outputs": [],
   "source": [
    "N = 60\n",
    "count = 0\n",
    "\n",
    "for i in range(N):\n",
    "    if i % 7 == 0 and i % 10 == 6:\n",
    "        count += 1\n",
    "        print(i)\n",
    "        \n",
    "print(count)"
   ]
  },
  {
   "cell_type": "code",
   "execution_count": null,
   "id": "ec9206fb",
   "metadata": {},
   "outputs": [],
   "source": [
    "numbers = [10, 30, 20, 40, 50, 60, 70]\n",
    "target = 50\n",
    "\n",
    "for i in range (0,len(numbers)):\n",
    "    for j in range(0, len(numbers)):\n",
    "        if numbers[i] + numbers[j] == target:\n",
    "            print((i, j))\n",
    "        \n"
   ]
  },
  {
   "cell_type": "code",
   "execution_count": null,
   "id": "35648e20",
   "metadata": {},
   "outputs": [],
   "source": [
    "class pyWords:\n",
    "    process_words = []\n",
    "    def __init__(self, listt):\n",
    "        self.process_words.extend(listt)\n",
    "        \n",
    "    def printme(self):\n",
    "        print(self.process_words)\n",
    "        \n",
    "    def words_with_length_1(self):\n",
    "        for item in self.process_words:\n",
    "            if len(item) == 1:\n",
    "                print(item)\n",
    "                \n",
    "    def starts_with_S(self):\n",
    "        for item in self.process_words:\n",
    "            if item[0] == \"s\":\n",
    "                print(item)\n",
    "                \n",
    "    def palindrome(self):\n",
    "        for item in self.process_words:\n",
    "            if item == item[::-1]:\n",
    "                print(\"Palindrome\", item)\n",
    "        \n",
    "x = pyWords([\"I\", \"am\", \"Rahul\", \"sarkar\", \"level\"])\n",
    "x.palindrome()"
   ]
  },
  {
   "cell_type": "markdown",
   "id": "ea4ce26c",
   "metadata": {},
   "source": [
    "## Dict iterate "
   ]
  },
  {
   "cell_type": "code",
   "execution_count": null,
   "id": "fa92bd8f",
   "metadata": {},
   "outputs": [],
   "source": [
    "d = {\n",
    "    \"user1\": {\n",
    "        \"name\": \" Rahul\",\n",
    "        \"phone\": 1987654321,\n",
    "        \"email\": \"rahul@gmail.com\"\n",
    "    }, \n",
    "    \n",
    "    \"user2\": {\n",
    "        \"name\": \" Arpan\",\n",
    "        \"phone\": 1987654325,\n",
    "    }, \n",
    "    \"user3\": {\n",
    "        \"name\": \" Sayan\",\n",
    "        \"phone\": 9987654321,\n",
    "        \"email\": \"sayan@gmail.com\"\n",
    "    }, \n",
    "}\n",
    "\n",
    "for data in d:\n",
    "    if(d[data][\"phone\"] % 10 == 5):\n",
    "        print(d[data][\"name\"])\n",
    "        \n",
    "for data in d:\n",
    "    if(int(str(d[data][\"phone\"])[0]) == 9):\n",
    "        print(d[data][\"name\"])\n",
    "        \n",
    "for data in d:\n",
    "    if \"email\" not in d[data]:\n",
    "        print(d[data][\"name\"])\n",
    "    "
   ]
  },
  {
   "cell_type": "code",
   "execution_count": 2,
   "id": "b5e1b36e",
   "metadata": {},
   "outputs": [
    {
     "name": "stdout",
     "output_type": "stream",
     "text": [
      "Enter name of productcondom\n",
      "Price of product100\n",
      "Wanna stop?N\n",
      "Enter name of producttv\n",
      "Price of product12000\n",
      "Wanna stop?N\n",
      "Enter name of productmobile\n",
      "Price of product2000\n",
      "Wanna stop?Y\n",
      "{'condom': 100, 'tv': 12000, 'mobile': 2000}\n"
     ]
    }
   ],
   "source": [
    "\n",
    "data = {}\n",
    "\n",
    "while(True):\n",
    "    name = input(\"Enter name of product\")\n",
    "    price = int(input(\"Price of product\"))\n",
    "    data[name] = price    \n",
    "    con = input(\"Wanna stop?\")\n",
    "    if(con == \"Y\"):\n",
    "        break\n",
    "    else:\n",
    "        pass\n",
    "        \n",
    "name = input(\"Enter product name\")\n",
    "print(data[name])\n",
    "\n",
    "p1 = int(input(\"Enter starting range\"))\n",
    "p2 = int(input(\"Enter ending range\"))\n",
    "\n",
    "for item in data:\n",
    "    if(data[item] > )\n",
    "\n",
    "print(data)"
   ]
  },
  {
   "cell_type": "markdown",
   "id": "8b6f6f6a",
   "metadata": {},
   "source": [
    "## Quick sort "
   ]
  },
  {
   "cell_type": "code",
   "execution_count": 1,
   "id": "d8fd107f",
   "metadata": {},
   "outputs": [
    {
     "name": "stdout",
     "output_type": "stream",
     "text": [
      "[3, 7, 10, 20, 100]\n"
     ]
    }
   ],
   "source": [
    "def quick_sort(arr):\n",
    "    if len(arr) <= 1:\n",
    "        return arr\n",
    "    pivot = arr[0]\n",
    "    left = []\n",
    "    right = []\n",
    "    for i in range(1, len(arr)):\n",
    "        if arr[i] < pivot:\n",
    "            left.append(arr[i])\n",
    "        else:\n",
    "            right.append(arr[i])\n",
    "    return quick_sort(left) + [pivot] + quick_sort(right)\n",
    "\n",
    "print(quick_sort([10, 3, 7, 20,100 ]))\n"
   ]
  },
  {
   "cell_type": "markdown",
   "id": "2e8743e8",
   "metadata": {},
   "source": [
    "def gaussianSum(numbers):\n",
    "    result = []\n",
    "    i = 0;\n",
    "    j = len(numbers) - 1\n",
    "    \n",
    "    while (i< j):\n",
    "        sum = numbers[i] + numbers[j]\n",
    "        result.append(sum)\n",
    "        print(f\"{numbers[i]} + {numbers[j]}\")\n",
    "        i += 1;\n",
    "        j -= 1;\n",
    "        if(i ==j ):\n",
    "            result.append(numbers[i])\n",
    "        \n",
    "    return result\n",
    "        \n",
    "print(gaussianSum([1, 2, 3, 4, 5, 6]))\n"
   ]
  },
  {
   "cell_type": "markdown",
   "id": "a95331ad",
   "metadata": {},
   "source": [
    "## GCD"
   ]
  },
  {
   "cell_type": "code",
   "execution_count": 8,
   "id": "6e26b738",
   "metadata": {},
   "outputs": [
    {
     "name": "stdout",
     "output_type": "stream",
     "text": [
      "14\n"
     ]
    }
   ],
   "source": [
    "def gcd(a, b):\n",
    "    minimum = min(a,b)\n",
    "        \n",
    "    for i in range(1, minimum+1):\n",
    "        if a%i==0 and b%i==0:\n",
    "            hcf = i\n",
    "        \n",
    "    print(hcf)\n",
    "\n",
    "gcd(98,56)\n"
   ]
  },
  {
   "cell_type": "markdown",
   "id": "7700f64c",
   "metadata": {},
   "source": [
    "## LCM"
   ]
  },
  {
   "cell_type": "code",
   "execution_count": 9,
   "id": "cf7d1de4",
   "metadata": {},
   "outputs": [
    {
     "name": "stdout",
     "output_type": "stream",
     "text": [
      "140\n"
     ]
    }
   ],
   "source": [
    "def lcm(a, b):\n",
    "    maximum = max(a,b)\n",
    "        \n",
    "    while(True):\n",
    "        if (maximum%a ==0 and maximum%b == 0):\n",
    "            break\n",
    "        maximum = maximum + 1\n",
    "    print(maximum)\n",
    "\n",
    "lcm(20,28)\n"
   ]
  },
  {
   "cell_type": "markdown",
   "id": "564bec1a",
   "metadata": {},
   "source": [
    "## Pascal"
   ]
  },
  {
   "cell_type": "code",
   "execution_count": 19,
   "id": "009035ee",
   "metadata": {},
   "outputs": [
    {
     "name": "stdout",
     "output_type": "stream",
     "text": [
      "      1 \n",
      "     1 1 \n",
      "    1 2 1 \n",
      "   1 3 3 1 \n",
      "  1 4 6 4 1 \n",
      " 1 5 10 10 5 1 \n",
      "1 6 15 20 15 6 1 \n"
     ]
    }
   ],
   "source": [
    "n = 7\n",
    "list = []\n",
    "\n",
    "for i in range(n):\n",
    "    temp = []\n",
    "    for j in range(i+1):\n",
    "        if j==0 or j ==i: #For edges we are assigning 1\n",
    "            temp.append(1)\n",
    "        else: #Adding the values from the previous list\n",
    "            temp.append(list[i-1][j-1]+list[i-1][j])\n",
    "    list.append(temp)\n",
    "    \n",
    "\n",
    "#Printing\n",
    "for i in range(n):\n",
    "    for j in range(n-i-1):\n",
    "        print(\" \", end=\"\")\n",
    "    for j in range(i+1):\n",
    "        print(list[i][j], end=\" \")\n",
    "    print()\n"
   ]
  },
  {
   "cell_type": "code",
   "execution_count": null,
   "id": "06c7579a",
   "metadata": {},
   "outputs": [],
   "source": [
    "def jaccard_similarity(set1, set2):\n",
    "    union = set1.union(set2)\n",
    "    intersection = set1.intersection(set2)\n",
    "    return len(intersection) / len(union)\n",
    "\n",
    "def cosine_similarity(set1, set2):\n",
    "    intersection = set1.intersection(set2)\n",
    "    return len(intersection) / (len(set1) * len(set2))**0.5\n"
   ]
  },
  {
   "cell_type": "markdown",
   "id": "65969869",
   "metadata": {},
   "source": [
    "## File handling "
   ]
  },
  {
   "cell_type": "code",
   "execution_count": 51,
   "id": "73ff0d75",
   "metadata": {},
   "outputs": [],
   "source": [
    "\n",
    "with open('first.txt', 'r') as src:\n",
    "    with open('second.txt', 'w') as dst:\n",
    "        data = src.readlines()\n",
    "        count = 1\n",
    "        for d in data:\n",
    "            newLine = d.replace(\"\\n\", \" \")\n",
    "            dst.write(f'{count} -> {newLine} ->  {len(d)} \\n')\n",
    "            count += 1\n",
    "\n",
    "f.close()\n",
    "f2.close()"
   ]
  },
  {
   "cell_type": "code",
   "execution_count": 56,
   "id": "ea63ff54",
   "metadata": {},
   "outputs": [
    {
     "name": "stdout",
     "output_type": "stream",
     "text": [
      "['Rahul', '23']\n",
      "[]\n",
      "['Sayan', '21']\n",
      "[]\n"
     ]
    }
   ],
   "source": [
    "import csv\n",
    "\n",
    "with open('mycsv.csv', 'w') as file:\n",
    "    writer = csv.writer(file, delimiter=\"\\t\")\n",
    "    writer.writerow([\"Rahul\", 23])\n",
    "    writer.writerow([\"Sayan\", 21])\n",
    "    \n",
    "with open('mycsv.csv', 'r') as file:\n",
    "    reader = csv.reader(file, delimiter=\"\\t\")\n",
    "    for row in reader:\n",
    "        print(row)\n",
    "    "
   ]
  },
  {
   "cell_type": "code",
   "execution_count": 64,
   "id": "26846b76",
   "metadata": {},
   "outputs": [
    {
     "name": "stdout",
     "output_type": "stream",
     "text": [
      "30\n",
      "20\n",
      "10\n",
      "100\n"
     ]
    }
   ],
   "source": [
    "class Node:\n",
    "    def __init__(self, data):\n",
    "        self.data = data\n",
    "        self.next = None\n",
    "        \n",
    "class LinkedList:\n",
    "    def __init__(self):\n",
    "        self.head = None\n",
    "        \n",
    "    def addBegining(self, data):\n",
    "        newNode = Node(data)\n",
    "        newNode.next = self.head\n",
    "        self.head = newNode\n",
    "    \n",
    "    def printData(self):\n",
    "        if self.head is None:\n",
    "            print(\"Linked list is empty\")\n",
    "        else:\n",
    "            n = self.head\n",
    "            while n is not None:\n",
    "                print(n.data)\n",
    "                n = n.next\n",
    "    \n",
    "    def addEnd(self, data):\n",
    "        newNode = Node(data)\n",
    "        if self.head is None:\n",
    "            self.head = newNode\n",
    "        else:\n",
    "            n = self.head\n",
    "            while n.next is not None:\n",
    "                n = n.next\n",
    "            n.next = newNode\n",
    "\n",
    "LL = LinkedList()\n",
    "LL.addBegining(10)\n",
    "LL.addBegining(20)\n",
    "LL.addBegining(30)\n",
    "LL.addEnd(100)\n",
    "LL.printData()\n"
   ]
  },
  {
   "cell_type": "markdown",
   "id": "21c9e856",
   "metadata": {},
   "source": [
    "## Magic method"
   ]
  },
  {
   "cell_type": "code",
   "execution_count": 68,
   "id": "44a79799",
   "metadata": {},
   "outputs": [
    {
     "name": "stdout",
     "output_type": "stream",
     "text": [
      "(3,5)\n"
     ]
    }
   ],
   "source": [
    "class Point:\n",
    "    def __init__(self, x=0, y=0):\n",
    "        self.x = x\n",
    "        self.y = y\n",
    "\n",
    "    def __str__(self):\n",
    "        return \"({0},{1})\".format(self.x, self.y)\n",
    "\n",
    "    def __add__(self, other):\n",
    "        x = self.x + other.x\n",
    "        y = self.y + other.y\n",
    "        return Point(x, y)\n",
    "\n",
    "\n",
    "p1 = Point(1, 2)\n",
    "p2 = Point(2, 3)\n",
    "\n",
    "print(p1+p2)\n",
    "\n",
    "# Output: (3,5)"
   ]
  },
  {
   "cell_type": "code",
   "execution_count": 71,
   "id": "da3b4783",
   "metadata": {},
   "outputs": [
    {
     "name": "stdout",
     "output_type": "stream",
     "text": [
      "(10, 5)\n",
      "Lenght is 10 ft 5 inch\n",
      "<__main__.Length object at 0x000001DBAA58C7F0>\n",
      " After addition new length is 30 feet and 10 inch \n"
     ]
    }
   ],
   "source": [
    "class Length:\n",
    "    def _init_(self, feet=0, inch=0):\n",
    "        self.feet = feet\n",
    "        self.inch = inch\n",
    "    \n",
    "    def SetLength(self, feet, inch):\n",
    "        self.feet = feet\n",
    "        self.inch = inch\n",
    "        \n",
    "    def GetLength(self):\n",
    "        return ((self.feet), (self.inch))\n",
    "        \n",
    "    def _repr_(self):\n",
    "        return f'Lenght is {self.feet} ft {self.inch} inch'\n",
    "    \n",
    "    def _add_(self, other):\n",
    "        return f' After addition new length is {self.feet + other.feet} feet and {self.inch + other.inch} inch '\n",
    "        \n",
    "len = Length()\n",
    "len.SetLength(10, 5)\n",
    "\n",
    "print(len.GetLength())\n",
    "\n",
    "print(len._repr_()) #Method21\n",
    "print(repr(len)) #Method 2\n",
    "        \n",
    "len1 = Length()\n",
    "len1.SetLength(10, 7)\n",
    "\n",
    "len2 = Length()\n",
    "len2.SetLength(20, 3)\n",
    "\n",
    "print(len1._add_(len2))"
   ]
  },
  {
   "cell_type": "markdown",
   "id": "4b14752d",
   "metadata": {},
   "source": [
    "## Generator"
   ]
  },
  {
   "cell_type": "code",
   "execution_count": 75,
   "id": "eae797d4",
   "metadata": {},
   "outputs": [
    {
     "name": "stdout",
     "output_type": "stream",
     "text": [
      "Hey bro kemon acho?\n"
     ]
    }
   ],
   "source": [
    "def callme():\n",
    "    yield \"Hey bro kemon acho?\"\n",
    "    \n",
    "result = callme()\n",
    "\n",
    "for i in result:\n",
    "    print(i)"
   ]
  },
  {
   "cell_type": "code",
   "execution_count": 82,
   "id": "492460b4",
   "metadata": {},
   "outputs": [
    {
     "name": "stdout",
     "output_type": "stream",
     "text": [
      "0\n",
      "2\n",
      "4\n",
      "6\n",
      "8\n"
     ]
    }
   ],
   "source": [
    "def even(n):\n",
    "    for i in range(n):\n",
    "        if i % 2 == 0:\n",
    "            yield i\n",
    "            \n",
    "op = even(10)\n",
    "\n",
    "for i in op:\n",
    "    print(i)"
   ]
  },
  {
   "cell_type": "code",
   "execution_count": 83,
   "id": "f4259853",
   "metadata": {},
   "outputs": [
    {
     "name": "stdout",
     "output_type": "stream",
     "text": [
      "Hello Rahul Naki\n"
     ]
    }
   ],
   "source": [
    "print(\"hello rahul naki\".title())"
   ]
  },
  {
   "cell_type": "code",
   "execution_count": 85,
   "id": "6da9c056",
   "metadata": {},
   "outputs": [
    {
     "name": "stdout",
     "output_type": "stream",
     "text": [
      "Instance Created\n",
      "200\n"
     ]
    }
   ],
   "source": [
    "class Product:\n",
    "    def __init__(self):\n",
    "        print(\"Instance Created\")\n",
    "  \n",
    "    # Defining __call__ method\n",
    "    def __call__(self, a, b):\n",
    "        print(a * b)\n",
    "  \n",
    "# Instance created\n",
    "ans = Product()\n",
    "  \n",
    "# __call__ method\n",
    "ans(10, 20)"
   ]
  },
  {
   "cell_type": "code",
   "execution_count": 86,
   "id": "2dda0a67",
   "metadata": {},
   "outputs": [
    {
     "name": "stdout",
     "output_type": "stream",
     "text": [
      "* \n",
      "* * \n",
      "* * * \n",
      "* * * * \n",
      "* * * * * \n"
     ]
    }
   ],
   "source": [
    "n = 5\n",
    "\n",
    "#For uppper triangle \n",
    "for i in range (0, n):\n",
    "    for j in range(0, i+1):\n",
    "        print('*', end=\" \")\n",
    "    print()"
   ]
  },
  {
   "cell_type": "code",
   "execution_count": 87,
   "id": "5ee19253",
   "metadata": {},
   "outputs": [
    {
     "name": "stdout",
     "output_type": "stream",
     "text": [
      "* * * * * \n",
      "* * * * \n",
      "* * * \n",
      "* * \n",
      "* \n"
     ]
    }
   ],
   "source": [
    "n = 5\n",
    "\n",
    "for i in range (0, n):\n",
    "    for j in range(0, n-i): #OR (i, n)\n",
    "        print('*', end=\" \")\n",
    "    print()"
   ]
  },
  {
   "cell_type": "code",
   "execution_count": 88,
   "id": "481125b1",
   "metadata": {},
   "outputs": [
    {
     "name": "stdout",
     "output_type": "stream",
     "text": [
      "  * * * * * \n",
      "    * * * * \n",
      "      * * * \n",
      "        * * \n",
      "          * \n"
     ]
    }
   ],
   "source": [
    "n = 5\n",
    "\n",
    "for i in range (n):\n",
    "    for j in range(i+1):\n",
    "        print(' ', end=\" \")\n",
    "    for j in range(i, n):\n",
    "        print('*', end=\" \")\n",
    "    print()"
   ]
  },
  {
   "cell_type": "code",
   "execution_count": 89,
   "id": "12b4a2e2",
   "metadata": {},
   "outputs": [
    {
     "name": "stdout",
     "output_type": "stream",
     "text": [
      "          * \n",
      "        * * \n",
      "      * * * \n",
      "    * * * * \n",
      "  * * * * * \n"
     ]
    }
   ],
   "source": [
    "n = 5\n",
    "\n",
    "for i in range (n):\n",
    "    for j in range(i, n):\n",
    "        print(' ', end=\" \")\n",
    "        \n",
    "    for j in range(i+1):\n",
    "        print('*', end=\" \")\n",
    "    print()"
   ]
  },
  {
   "cell_type": "markdown",
   "id": "f1a3236c",
   "metadata": {},
   "source": [
    "## Regex"
   ]
  },
  {
   "cell_type": "code",
   "execution_count": 103,
   "id": "a015a6a1",
   "metadata": {},
   "outputs": [
    {
     "name": "stdout",
     "output_type": "stream",
     "text": [
      "['e', 'c', 'b', 'e', 'e', 'a', 'd'] ['The'] ['dog'] ['jumps'] ['the']\n"
     ]
    }
   ],
   "source": [
    "import re\n",
    "str = \"The quick brown fox jumps over the lazy dog\"\n",
    "\n",
    "x = re.findall(\"[a-e]\", str)\n",
    "y = re.findall( \"^The\",str)\n",
    "z = re.findall( \"dog$\",str)\n",
    "\n",
    "a = re.findall( \"j.{2}ps\" ,str)\n",
    "b = re.findall( \"the|tha\" ,str)\n",
    "\n",
    "print(x, y, z, a, b)\n"
   ]
  },
  {
   "cell_type": "code",
   "execution_count": 105,
   "id": "1ebe5156",
   "metadata": {},
   "outputs": [
    {
     "ename": "TypeError",
     "evalue": "'Length' object is not callable",
     "output_type": "error",
     "traceback": [
      "\u001b[1;31m---------------------------------------------------------------------------\u001b[0m",
      "\u001b[1;31mTypeError\u001b[0m                                 Traceback (most recent call last)",
      "Input \u001b[1;32mIn [105]\u001b[0m, in \u001b[0;36m<cell line: 11>\u001b[1;34m()\u001b[0m\n\u001b[0;32m      7\u001b[0m     \u001b[38;5;28;01mreturn\u001b[39;00m arr\n\u001b[0;32m      9\u001b[0m arr \u001b[38;5;241m=\u001b[39m [\u001b[38;5;241m64\u001b[39m, \u001b[38;5;241m34\u001b[39m, \u001b[38;5;241m25\u001b[39m, \u001b[38;5;241m12\u001b[39m, \u001b[38;5;241m22\u001b[39m, \u001b[38;5;241m11\u001b[39m, \u001b[38;5;241m90\u001b[39m]\n\u001b[1;32m---> 11\u001b[0m \u001b[38;5;28mprint\u001b[39m(\u001b[38;5;124m\"\u001b[39m\u001b[38;5;124mSorted array is:\u001b[39m\u001b[38;5;124m\"\u001b[39m, \u001b[43mbubble_sort\u001b[49m\u001b[43m(\u001b[49m\u001b[43marr\u001b[49m\u001b[43m)\u001b[49m)\n",
      "Input \u001b[1;32mIn [105]\u001b[0m, in \u001b[0;36mbubble_sort\u001b[1;34m(arr)\u001b[0m\n\u001b[0;32m      1\u001b[0m \u001b[38;5;28;01mdef\u001b[39;00m \u001b[38;5;21mbubble_sort\u001b[39m(arr):\n\u001b[1;32m----> 2\u001b[0m     n \u001b[38;5;241m=\u001b[39m \u001b[38;5;28;43mlen\u001b[39;49m\u001b[43m(\u001b[49m\u001b[43marr\u001b[49m\u001b[43m)\u001b[49m\n\u001b[0;32m      3\u001b[0m     \u001b[38;5;28;01mfor\u001b[39;00m i \u001b[38;5;129;01min\u001b[39;00m \u001b[38;5;28mrange\u001b[39m(n):\n\u001b[0;32m      4\u001b[0m         \u001b[38;5;28;01mfor\u001b[39;00m j \u001b[38;5;129;01min\u001b[39;00m \u001b[38;5;28mrange\u001b[39m(\u001b[38;5;241m0\u001b[39m, n\u001b[38;5;241m-\u001b[39mi\u001b[38;5;241m-\u001b[39m\u001b[38;5;241m1\u001b[39m):\n",
      "\u001b[1;31mTypeError\u001b[0m: 'Length' object is not callable"
     ]
    }
   ],
   "source": [
    "def bubble_sort(arr):\n",
    "    n = len(arr)\n",
    "    for i in range(n):\n",
    "        for j in range(0, n-i-1):\n",
    "            if arr[j] > arr[j+1]:\n",
    "                arr[j], arr[j+1] = arr[j+1], arr[j]\n",
    "    return arr\n",
    "\n",
    "arr = [64, 34, 25, 12, 22, 11, 90]\n",
    "\n",
    "print(\"Sorted array is:\", bubble_sort(arr))"
   ]
  },
  {
   "cell_type": "code",
   "execution_count": 107,
   "id": "ce2cc9d1",
   "metadata": {},
   "outputs": [
    {
     "name": "stdout",
     "output_type": "stream",
     "text": [
      "3\n"
     ]
    }
   ],
   "source": [
    "print(10//3)"
   ]
  },
  {
   "cell_type": "code",
   "execution_count": 116,
   "id": "602c6da4",
   "metadata": {},
   "outputs": [
    {
     "ename": "TypeError",
     "evalue": "'Length' object is not callable",
     "output_type": "error",
     "traceback": [
      "\u001b[1;31m---------------------------------------------------------------------------\u001b[0m",
      "\u001b[1;31mTypeError\u001b[0m                                 Traceback (most recent call last)",
      "Input \u001b[1;32mIn [116]\u001b[0m, in \u001b[0;36m<cell line: 29>\u001b[1;34m()\u001b[0m\n\u001b[0;32m     25\u001b[0m             j \u001b[38;5;241m+\u001b[39m\u001b[38;5;241m=\u001b[39m \u001b[38;5;241m1\u001b[39m\n\u001b[0;32m     26\u001b[0m             k \u001b[38;5;241m+\u001b[39m\u001b[38;5;241m=\u001b[39m \u001b[38;5;241m1\u001b[39m\n\u001b[1;32m---> 29\u001b[0m data \u001b[38;5;241m=\u001b[39m \u001b[43mmergesort\u001b[49m\u001b[43m(\u001b[49m\u001b[43m[\u001b[49m\u001b[38;5;241;43m1\u001b[39;49m\u001b[43m,\u001b[49m\u001b[38;5;241;43m4\u001b[39;49m\u001b[43m,\u001b[49m\u001b[38;5;241;43m3\u001b[39;49m\u001b[43m,\u001b[49m\u001b[38;5;241;43m6\u001b[39;49m\u001b[43m,\u001b[49m\u001b[38;5;241;43m2\u001b[39;49m\u001b[43m,\u001b[49m\u001b[38;5;241;43m5\u001b[39;49m\u001b[43m]\u001b[49m\u001b[43m)\u001b[49m\n\u001b[0;32m     31\u001b[0m \u001b[38;5;28mprint\u001b[39m(data)\n",
      "Input \u001b[1;32mIn [116]\u001b[0m, in \u001b[0;36mmergesort\u001b[1;34m(arr)\u001b[0m\n\u001b[0;32m      1\u001b[0m \u001b[38;5;28;01mdef\u001b[39;00m \u001b[38;5;21mmergesort\u001b[39m(arr):\n\u001b[1;32m----> 2\u001b[0m     \u001b[38;5;28;01mif\u001b[39;00m(\u001b[38;5;28;43mlen\u001b[39;49m\u001b[43m(\u001b[49m\u001b[43marr\u001b[49m\u001b[43m)\u001b[49m \u001b[38;5;241m>\u001b[39m \u001b[38;5;241m1\u001b[39m):    \n\u001b[0;32m      3\u001b[0m         mid \u001b[38;5;241m=\u001b[39m \u001b[38;5;28mlen\u001b[39m(arr) \u001b[38;5;241m/\u001b[39m\u001b[38;5;241m/\u001b[39m \u001b[38;5;241m2\u001b[39m\n\u001b[0;32m      4\u001b[0m         left \u001b[38;5;241m=\u001b[39m arr[:mid]\n",
      "\u001b[1;31mTypeError\u001b[0m: 'Length' object is not callable"
     ]
    }
   ],
   "source": [
    "def mergesort(arr):\n",
    "    if(len(arr) > 1):    \n",
    "        mid = len(arr) // 2\n",
    "        left = arr[:mid]\n",
    "        right = arr[mid:]\n",
    "        mergesort(left)\n",
    "        mergesort(right)\n",
    "        i = j = k =0\n",
    "        \n",
    "        while i < len(left) and j < len(right):\n",
    "            if(left[i] < right[j]):\n",
    "                arr[k] = left[i]\n",
    "                i += 1\n",
    "                k += 1\n",
    "            else:\n",
    "                arr[k] = right[j]\n",
    "                j += 1\n",
    "                k += 1\n",
    "        while i < len(left):\n",
    "            arr[k] = left[i]\n",
    "            k += 1\n",
    "            i += 1\n",
    "        while j < len(right):\n",
    "            arr[k] = right[j]\n",
    "            j += 1\n",
    "            k += 1\n",
    "    \n",
    "    \n",
    "data = mergesort([1,4,3,6,2,5])\n",
    "\n",
    "print(data)"
   ]
  },
  {
   "cell_type": "code",
   "execution_count": null,
   "id": "1d3d0040",
   "metadata": {},
   "outputs": [],
   "source": []
  }
 ],
 "metadata": {
  "kernelspec": {
   "display_name": "Python 3 (ipykernel)",
   "language": "python",
   "name": "python3"
  },
  "language_info": {
   "codemirror_mode": {
    "name": "ipython",
    "version": 3
   },
   "file_extension": ".py",
   "mimetype": "text/x-python",
   "name": "python",
   "nbconvert_exporter": "python",
   "pygments_lexer": "ipython3",
   "version": "3.10.0"
  }
 },
 "nbformat": 4,
 "nbformat_minor": 5
}
